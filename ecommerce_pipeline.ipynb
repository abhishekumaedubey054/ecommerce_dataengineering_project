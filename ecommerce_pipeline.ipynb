{
 "cells": [
  {
   "cell_type": "markdown",
   "id": "e3076d77",
   "metadata": {},
   "source": [
    "# E-commerce Data Engineering Pipeline\n",
    "This notebook demonstrates the data engineering pipeline steps: generation, transformation, and loading."
   ]
  },
  {
   "cell_type": "code",
   "execution_count": null,
   "id": "7aee8076",
   "metadata": {},
   "outputs": [],
   "source": [
    "import json\n",
    "import pandas as pd\n",
    "\n",
    "# Load raw data\n",
    "with open(\"data/raw/orders.json\", \"r\") as f:\n",
    "    orders = json.load(f)\n",
    "\n",
    "# Transform: convert to DataFrame and add total_price\n",
    "df = pd.DataFrame(orders)\n",
    "df[\"total_price\"] = df[\"quantity\"] * df[\"price\"]\n",
    "\n",
    "# Save to CSV\n",
    "df.to_csv(\"data/transformed_orders.csv\", index=False)\n",
    "print(\"Transformed data saved to data/transformed_orders.csv\")\n"
   ]
  },
  {
   "cell_type": "code",
   "execution_count": null,
   "id": "be1fcade",
   "metadata": {},
   "outputs": [],
   "source": [
    "import pandas as pd\n",
    "\n",
    "# Load transformed data\n",
    "df = pd.read_csv(\"data/transformed_orders.csv\")\n",
    "\n",
    "# Load simulation\n",
    "print(\"Loaded transformed orders:\")\n",
    "print(df.head())\n"
   ]
  }
 ],
 "metadata": {},
 "nbformat": 4,
 "nbformat_minor": 5
}
